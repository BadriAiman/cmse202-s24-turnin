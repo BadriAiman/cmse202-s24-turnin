{
 "cells": [
  {
   "cell_type": "markdown",
   "metadata": {},
   "source": [
    "# Homework Assignment 3  \n",
    "# Regression models"
   ]
  },
  {
   "cell_type": "markdown",
   "metadata": {},
   "source": [
    "# <p style=\"text-align: right;\"> &#9989; Badri Badrul</p>\n",
    "# <p style=\"text-align: right;\"> &#9989; BadriAiman</p>"
   ]
  },
  {
   "cell_type": "markdown",
   "metadata": {},
   "source": [
    "# Goal for this homework assignment\n",
    "By now, you have learned a bit about regression models. In this assignment, you will practice:\n",
    "\n",
    "* Using branches in Git\n",
    "* Performing linear regression\n",
    "* Performing multiple regression\n",
    "* Performing logistic regression\n",
    "\n",
    "**This assignment is due by 11:59 pm on Friday, March 29th.** It should be uploaded into the \"Homework Assignments\" submission folder for Homework 3.  Submission instructions can be found at the end of the notebook. **There are 80 standard points possible in this assignment including points for Git commits/pushes. The distribution of points can be found in the section headers**.\n"
   ]
  },
  {
   "cell_type": "markdown",
   "metadata": {},
   "source": [
    "---\n",
    "# Part 1: Git Branch (6 points)\n",
    "\n",
    "For this assignment, you're going to add it to the `cmse202-s24-turnin` repository you created in class so that you can track your progress on the assignment and preserve the final version that you turn in. In order to do this you need to\n",
    "\n",
    "**&#9989; Do the following**:\n",
    "\n",
    "1. Navigate to your `cmse202-s24-turnin` **local** repository and create a new directory called `hw-03`\n",
    "\n",
    "2. Move this notebook into that **new directory** in your repository, but **do not** add or commit it to your repository yet.\n",
    "\n",
    "3. Create a **new branch** called `hw03_branch` (The Day 16 PCA and ICA content has information on how to do this).\n",
    "\n",
    "4. \"Check out\" the new branch (so that you'll be working on that branch). \n",
    "\n",
    "5. Double check to make sure you are actually on that branch.\n",
    "\n",
    "6. Once you're certain you're working on your new branch, add this notebook to your repository, then make a commit and push it to GitHub. You may need to use `git push origin hw03_branch` to push your new branch to GitHub.\n",
    "\n",
    "Finally, &#9989; **Do this**: Before you move on, put the command that your instructor should run to clone your repository in the markdown cell below. **Points for this part will also be given for correctly setting up branch, etc., above, and for doing git commits/pushes mentioned throughout the assignment.**"
   ]
  },
  {
   "cell_type": "markdown",
   "metadata": {},
   "source": [
    "<font size=6 color=\"#009600\">&#9998;</font> git clone hw-03/HW-03_Regression-S24-STUDENT.ipynb"
   ]
  },
  {
   "cell_type": "markdown",
   "metadata": {},
   "source": [
    "**Important**: Double check you've added your Professor and your TA as collaborators to your \"turnin\" repository (you should have done this in the previous homework assignment).\n",
    "\n",
    "**Also important**: Make sure that the version of this notebook that you are working on is the same one that you just added to your repository! If you are working on a different copy of the notebook, **none of your changes will be tracked**!\n",
    "\n",
    "If everything went as intended, the file should now show up on your GitHub account in the \"`cmse202-s24-turnin`\" repository inside the `hw-03` directory that you just created within the new branch `hw03-branch`.\n",
    "\n",
    "Periodically, **you'll be asked to commit your changes to the repository and push them to the remote GitHub location**. Of course, you can always commit your changes more often than that, if you wish.  It can be good to get into a habit of committing your changes any time you make a significant modification, or when you stop working on the problems for a bit.\n"
   ]
  },
  {
   "cell_type": "markdown",
   "metadata": {},
   "source": [
    "---\n",
    "# Part 2: Loading the datasets (11 points)\n",
    "\n",
    "In Parts 2-4, you will be working with the world happiness report datasets that are available at https://www.kaggle.com/datasets/sazidthe1/global-happiness-scores-and-factors.\n",
    "\n",
    "Note that while Parts 3 and 4 are designed to be workable independent of each other, you'll definitely want to finish Part 2 before attempting Parts 3 or 4. To get started on Part 2, **you'll need to download the following files**:\n",
    "\n",
    "`https://raw.githubusercontent.com/ravisha3/CMSE202S24Homework3/main/WHR_2022.csv`\n",
    "\n",
    "`https://raw.githubusercontent.com/ravisha3/CMSE202S24Homework3/main/WHR_2023.csv`\n",
    "\n",
    "&#9989; **Question 2.1 (2 points)**: **Do this:** Save the above two CSV files in the same directory as your notebook. **Then, in the cell below, put the command line command(s) you used to download the files.** If you did not use a command line tool to download the files, write down the command(s) that *would* have downloaded the files."
   ]
  },
  {
   "cell_type": "markdown",
   "metadata": {},
   "source": [
    "``` bash\n",
    "curl -O https://raw.githubusercontent.com/ravisha3/CMSE202S24Homework3/main/WHR_2022.csv\n",
    "curl -O https://raw.githubusercontent.com/ravisha3/CMSE202S24Homework3/main/WHR_2023.csv\n",
    "```"
   ]
  },
  {
   "cell_type": "markdown",
   "metadata": {},
   "source": [
    "&#9989;  **Question 2.2 (4 points)**: Next, load the data in both files into different Pandas DataFrames and display the first and last 5 rows for each frame. "
   ]
  },
  {
   "cell_type": "code",
   "execution_count": 2,
   "metadata": {},
   "outputs": [
    {
     "name": "stdout",
     "output_type": "stream",
     "text": [
      "       country          region  happiness_score  gdp_per_capita  \\\n",
      "0      Finland  Western Europe            7.821           1.892   \n",
      "1      Denmark  Western Europe            7.636           1.953   \n",
      "2      Iceland  Western Europe            7.557           1.936   \n",
      "3  Switzerland  Western Europe            7.512           2.026   \n",
      "4  Netherlands  Western Europe            7.415           1.945   \n",
      "\n",
      "   social_support  healthy_life_expectancy  freedom_to_make_life_choices  \\\n",
      "0           1.258                    0.775                         0.736   \n",
      "1           1.243                    0.777                         0.719   \n",
      "2           1.320                    0.803                         0.718   \n",
      "3           1.226                    0.822                         0.677   \n",
      "4           1.206                    0.787                         0.651   \n",
      "\n",
      "   generosity  perceptions_of_corruption  \n",
      "0       0.109                      0.534  \n",
      "1       0.188                      0.532  \n",
      "2       0.270                      0.191  \n",
      "3       0.147                      0.461  \n",
      "4       0.271                      0.419  \n",
      "         country                        region  happiness_score  \\\n",
      "141     Botswana            Sub-Saharan Africa            3.471   \n",
      "142       Rwanda            Sub-Saharan Africa            3.268   \n",
      "143     Zimbabwe            Sub-Saharan Africa            2.995   \n",
      "144      Lebanon  Middle East and North Africa            2.955   \n",
      "145  Afghanistan                    South Asia            2.404   \n",
      "\n",
      "     gdp_per_capita  social_support  healthy_life_expectancy  \\\n",
      "141           1.503           0.815                    0.280   \n",
      "142           0.785           0.133                    0.462   \n",
      "143           0.947           0.690                    0.270   \n",
      "144           1.392           0.498                    0.631   \n",
      "145           0.758           0.000                    0.289   \n",
      "\n",
      "     freedom_to_make_life_choices  generosity  perceptions_of_corruption  \n",
      "141                         0.571       0.012                      0.102  \n",
      "142                         0.621       0.187                      0.544  \n",
      "143                         0.329       0.106                      0.105  \n",
      "144                         0.103       0.082                      0.034  \n",
      "145                         0.000       0.089                      0.005  \n",
      "       country                        region  happiness_score  gdp_per_capita  \\\n",
      "0      Finland                Western Europe            7.804           1.888   \n",
      "1      Denmark                Western Europe            7.586           1.949   \n",
      "2      Iceland                Western Europe            7.530           1.926   \n",
      "3       Israel  Middle East and North Africa            7.473           1.833   \n",
      "4  Netherlands                Western Europe            7.403           1.942   \n",
      "\n",
      "   social_support  healthy_life_expectancy  freedom_to_make_life_choices  \\\n",
      "0           1.585                    0.535                         0.772   \n",
      "1           1.548                    0.537                         0.734   \n",
      "2           1.620                    0.559                         0.738   \n",
      "3           1.521                    0.577                         0.569   \n",
      "4           1.488                    0.545                         0.672   \n",
      "\n",
      "   generosity  perceptions_of_corruption  \n",
      "0       0.126                      0.535  \n",
      "1       0.208                      0.525  \n",
      "2       0.250                      0.187  \n",
      "3       0.124                      0.158  \n",
      "4       0.251                      0.394  \n",
      "              country                        region  happiness_score  \\\n",
      "132  Congo (Kinshasa)            Sub-Saharan Africa            3.207   \n",
      "133          Zimbabwe            Sub-Saharan Africa            3.204   \n",
      "134      Sierra Leone            Sub-Saharan Africa            3.138   \n",
      "135           Lebanon  Middle East and North Africa            2.392   \n",
      "136       Afghanistan                    South Asia            1.859   \n",
      "\n",
      "     gdp_per_capita  social_support  healthy_life_expectancy  \\\n",
      "132           0.531           0.784                    0.105   \n",
      "133           0.758           0.881                    0.069   \n",
      "134           0.670           0.540                    0.092   \n",
      "135           1.417           0.476                    0.398   \n",
      "136           0.645           0.000                    0.087   \n",
      "\n",
      "     freedom_to_make_life_choices  generosity  perceptions_of_corruption  \n",
      "132                         0.375       0.183                      0.068  \n",
      "133                         0.363       0.112                      0.117  \n",
      "134                         0.371       0.193                      0.051  \n",
      "135                         0.123       0.061                      0.027  \n",
      "136                         0.000       0.093                      0.059  \n"
     ]
    }
   ],
   "source": [
    "import pandas as pd\n",
    "whr2022 = pd.read_csv(\"WHR_2022.csv\")\n",
    "whr2023 = pd.read_csv(\"WHR_2023.csv\")\n",
    "\n",
    "print(whr2022.head())\n",
    "print(whr2022.tail())\n",
    "print(whr2023.head())\n",
    "print(whr2023.tail())"
   ]
  },
  {
   "cell_type": "markdown",
   "metadata": {},
   "source": [
    "&#9989;  **Question 2.3 (2 points)**: Do you notice any entries in the datasets are empty or have have `NaN` values. Drop these rows from the dataframes."
   ]
  },
  {
   "cell_type": "code",
   "execution_count": 3,
   "metadata": {},
   "outputs": [],
   "source": [
    "clean_whr2022 = whr2022.dropna()\n",
    "clean_whr2023 = whr2023.dropna()"
   ]
  },
  {
   "cell_type": "markdown",
   "metadata": {},
   "source": [
    "&#9989;  **Question 2.4 (3 points)**: Lets do a bit of data analysis with the pandas frames. Display the countries with the top 3% scores (round the number of countries above to an integer) in the `happiness_score` column for 2022 and 2023. Are the countries different between the years?"
   ]
  },
  {
   "cell_type": "code",
   "execution_count": 4,
   "metadata": {},
   "outputs": [
    {
     "name": "stdout",
     "output_type": "stream",
     "text": [
      "Top countries for 2022:\n",
      "       country  happiness_score\n",
      "0      Finland            7.821\n",
      "1      Denmark            7.636\n",
      "2      Iceland            7.557\n",
      "3  Switzerland            7.512\n",
      "4  Netherlands            7.415\n",
      "\n",
      "Top countries for 2023:\n",
      "   country  happiness_score\n",
      "0  Finland            7.804\n",
      "1  Denmark            7.586\n",
      "2  Iceland            7.530\n",
      "3   Israel            7.473\n"
     ]
    }
   ],
   "source": [
    "# Calculate the threshold for the top 3%\n",
    "threshold_2022 = clean_whr2022['happiness_score'].quantile(0.97)\n",
    "threshold_2023 = clean_whr2022['happiness_score'].quantile(0.97)\n",
    "\n",
    "# happiness score above the threshold for 2022 and 2023\n",
    "top_countries_2022 = clean_whr2022[clean_whr2022['happiness_score'] > threshold_2022]\n",
    "top_countries_2023 = clean_whr2023[clean_whr2023['happiness_score'] > threshold_2023]\n",
    "\n",
    "# 2022\n",
    "print(\"Top countries for 2022:\")\n",
    "print(top_countries_2022[['country', 'happiness_score']])\n",
    "\n",
    "# 2023\n",
    "print(\"\\nTop countries for 2023:\")\n",
    "print(top_countries_2023[['country', 'happiness_score']])\n"
   ]
  },
  {
   "cell_type": "markdown",
   "metadata": {},
   "source": [
    "<font size=6 color=\"#009600\">&#9998;</font> The happiness value for the two years are different, seems to be higher for finland and denmark in 2022 then higher for iceland and israel in 2023"
   ]
  },
  {
   "cell_type": "markdown",
   "metadata": {},
   "source": [
    "---\n",
    "### &#128721; STOP\n",
    "**Pause to commit your changes to your Git repository!**\n",
    "\n",
    "Take a moment to save your notebook, commit the changes to your local `git` repository using the commit message \"Part 2 complete\", and push the changes to GitHub.\n",
    "\n",
    "---"
   ]
  },
  {
   "cell_type": "markdown",
   "metadata": {},
   "source": [
    "---\n",
    "# Part 3: One Variable Linear Regression (30 points)\n",
    "\n",
    "In this part, we'll perform some one-variable linear regression analysis on the world happiness data.\n",
    "\n",
    "&#9989;  **Question 3.1 (6 points)**: Using the `OLS` method in `statsmodels`, perform a linear regression to predict the `happiness_score` using the `healthy_life_expectancy` column separately for 2022 and 2023 and **display the results summaries** for both years. Remember that you may need to use the `add_constant()` method to make sure `OLS` fits a general line $y = ax+b$ to the data instead of a line through the origin $y = ax$. "
   ]
  },
  {
   "cell_type": "code",
   "execution_count": 5,
   "metadata": {},
   "outputs": [
    {
     "name": "stdout",
     "output_type": "stream",
     "text": [
      "Results summary for 2022:\n",
      "                            OLS Regression Results                            \n",
      "==============================================================================\n",
      "Dep. Variable:        happiness_score   R-squared:                       0.548\n",
      "Model:                            OLS   Adj. R-squared:                  0.545\n",
      "Method:                 Least Squares   F-statistic:                     174.6\n",
      "Date:                Tue, 26 Mar 2024   Prob (F-statistic):           1.32e-26\n",
      "Time:                        21:55:49   Log-Likelihood:                -160.86\n",
      "No. Observations:                 146   AIC:                             325.7\n",
      "Df Residuals:                     144   BIC:                             331.7\n",
      "Df Model:                           1                                         \n",
      "Covariance Type:            nonrobust                                         \n",
      "===========================================================================================\n",
      "                              coef    std err          t      P>|t|      [0.025      0.975]\n",
      "-------------------------------------------------------------------------------------------\n",
      "const                       2.8791      0.211     13.625      0.000       2.461       3.297\n",
      "healthy_life_expectancy     4.5626      0.345     13.213      0.000       3.880       5.245\n",
      "==============================================================================\n",
      "Omnibus:                       15.012   Durbin-Watson:                   1.188\n",
      "Prob(Omnibus):                  0.001   Jarque-Bera (JB):               16.562\n",
      "Skew:                          -0.732   Prob(JB):                     0.000253\n",
      "Kurtosis:                       3.759   Cond. No.                         7.69\n",
      "==============================================================================\n",
      "\n",
      "Notes:\n",
      "[1] Standard Errors assume that the covariance matrix of the errors is correctly specified.\n",
      "\n",
      "Results summary for 2023:\n",
      "                            OLS Regression Results                            \n",
      "==============================================================================\n",
      "Dep. Variable:        happiness_score   R-squared:                       0.558\n",
      "Model:                            OLS   Adj. R-squared:                  0.554\n",
      "Method:                 Least Squares   F-statistic:                     168.9\n",
      "Date:                Tue, 26 Mar 2024   Prob (F-statistic):           1.71e-25\n",
      "Time:                        21:55:49   Log-Likelihood:                -155.18\n",
      "No. Observations:                 136   AIC:                             314.4\n",
      "Df Residuals:                     134   BIC:                             320.2\n",
      "Df Model:                           1                                         \n",
      "Covariance Type:            nonrobust                                         \n",
      "===========================================================================================\n",
      "                              coef    std err          t      P>|t|      [0.025      0.975]\n",
      "-------------------------------------------------------------------------------------------\n",
      "const                       3.5502      0.167     21.280      0.000       3.220       3.880\n",
      "healthy_life_expectancy     5.4461      0.419     12.995      0.000       4.617       6.275\n",
      "==============================================================================\n",
      "Omnibus:                       29.212   Durbin-Watson:                   0.978\n",
      "Prob(Omnibus):                  0.000   Jarque-Bera (JB):               47.810\n",
      "Skew:                          -1.029   Prob(JB):                     4.15e-11\n",
      "Kurtosis:                       5.050   Cond. No.                         7.28\n",
      "==============================================================================\n",
      "\n",
      "Notes:\n",
      "[1] Standard Errors assume that the covariance matrix of the errors is correctly specified.\n"
     ]
    }
   ],
   "source": [
    "import statsmodels.api as sm\n",
    "\n",
    "X_2022 = sm.add_constant(clean_whr2022['healthy_life_expectancy'])\n",
    "X_2023 = sm.add_constant(clean_whr2023['healthy_life_expectancy'])\n",
    "\n",
    "# Linear regression model for 2022\n",
    "model_2022 = sm.OLS(clean_whr2022['happiness_score'], X_2022)\n",
    "result_2022 = model_2022.fit()\n",
    "\n",
    "# Linear regression model for 2023\n",
    "model_2023 = sm.OLS(clean_whr2023['happiness_score'], X_2023)\n",
    "result_2023 = model_2023.fit()\n",
    "\n",
    "print(\"Results summary for 2022:\")\n",
    "print(result_2022.summary())\n",
    "print(\"\\nResults summary for 2023:\")\n",
    "print(result_2023.summary())\n"
   ]
  },
  {
   "cell_type": "markdown",
   "metadata": {},
   "source": [
    "&#9989;  **Question 3.2 (6 points)**: Answer the following questions: \n",
    "\n",
    "1. What were the equations of the best fit lines for 2022 and 2023? \n",
    "\n",
    "2. Are the slopes and intercepts of the two fitted lines identical (between the 2 years)? Would you use the 2022 model to predict for 2023?\n",
    "\n",
    "3. Based on the R-squared values for the two cases, how do you think the models fit the data?"
   ]
  },
  {
   "cell_type": "markdown",
   "metadata": {},
   "source": [
    "<font size=+3>&#9998;</font> 1. \n",
    "2. the slopes and intercepts are identical for both years. i would use the year 2023 to predict the mode.\n",
    "3. 2023 because it has a value closer to one"
   ]
  },
  {
   "cell_type": "markdown",
   "metadata": {},
   "source": [
    "&#9989;  **Question 3.3 (6 points)**: Now make scatter plots of `happiness_score` (x-axis) vs. `healthy_life_expectancy` (on y-axis) for 2022 and 2023 on the same plot. Use different colors for the different years. Also plot the best fit lines on the same plot with same colors as the corresponding scatter plots. Label the axes, and add a legend, and give the plot a title."
   ]
  },
  {
   "cell_type": "code",
   "execution_count": 10,
   "metadata": {},
   "outputs": [
    {
     "data": {
      "image/png": "[encoded data removed]",
      "text/plain": [
       "<Figure size 640x480 with 1 Axes>"
      ]
     },
     "metadata": {},
     "output_type": "display_data"
    }
   ],
   "source": [
    "\n",
    "# Scatter plots\n",
    "plt.scatter(clean_whr2022['happiness_score'], clean_whr2022['healthy_life_expectancy'], color='blue', label='2022')\n",
    "plt.scatter(clean_whr2023['happiness_score'], clean_whr2023['healthy_life_expectancy'], color='yellow', label='2023')\n",
    "\n",
    "# Best fit lines\n",
    "plt.plot(clean_whr2022['happiness_score'], result_2022.predict(), color='blue')\n",
    "plt.plot(clean_whr2023['happiness_score'], result_2023.predict(), color='yellow')\n",
    "plt.xlabel('Happiness Score')\n",
    "plt.ylabel('Healthy Life Expectancy')\n",
    "plt.title('Happiness Score vs. Healthy Life Expectancy (2022 vs. 2023)')\n",
    "plt.legend()\n",
    "plt.show()"
   ]
  },
  {
   "cell_type": "markdown",
   "metadata": {},
   "source": [
    "&#9989;  **Question 3.4 (2 points)**: In which year are the happiness score predictions generally better?"
   ]
  },
  {
   "cell_type": "markdown",
   "metadata": {},
   "source": [
    "<font size=+3>&#9998;</font> Put your explanations here."
   ]
  },
  {
   "cell_type": "markdown",
   "metadata": {},
   "source": [
    "**&#9989; Do this:** **Question 3.5 (4 points)**: Use `plot_regress_exog` to investigate the distribution of residuals in your model fits. Make sure to create a large enough figure so that everything is easily visible. Make separate plots for 2022 and 2023."
   ]
  },
  {
   "cell_type": "code",
   "execution_count": null,
   "metadata": {},
   "outputs": [],
   "source": [
    "# Put code here."
   ]
  },
  {
   "cell_type": "markdown",
   "metadata": {},
   "source": [
    "&#9989;  **Question 3.6 (6 points)**: Lets try doing the model fitting again for 2022 and 2023 but only using countries in the `region` column labeled `Western Europe`. Using the `OLS` method in `statsmodels`, perform linear regression to predict `happiness score` based on `healthy_life_expectancy` using only countries in `Western Europe` `region`. Make sure to give the objects and variables different names for this part than the previous part. How do the results compare to Question 3.1? Discuss or compare briefly the observations. You may look at the R-squared values, etc."
   ]
  },
  {
   "cell_type": "code",
   "execution_count": null,
   "metadata": {},
   "outputs": [],
   "source": [
    "# Put your code here\n"
   ]
  },
  {
   "cell_type": "markdown",
   "metadata": {},
   "source": [
    "<font size=+3>&#9998;</font> Put your explanations here."
   ]
  },
  {
   "cell_type": "markdown",
   "metadata": {},
   "source": [
    "---\n",
    "### &#128721; STOP\n",
    "**Pause to commit your changes to your Git repository!**\n",
    "\n",
    "Take a moment to save your notebook, commit the changes to your local `git` repository using the commit message \"Part 3 complete\", and push the changes to GitHub.\n",
    "\n",
    "---"
   ]
  },
  {
   "cell_type": "markdown",
   "metadata": {},
   "source": [
    "# Part 4: Multiple Regression (16 points)\n",
    "\n",
    "In this part, we'll use multiple features to do predictions."
   ]
  },
  {
   "cell_type": "markdown",
   "metadata": {},
   "source": [
    "&#9989;  **Question 4.1 (5 points)**: Using the `OLS` method in `statsmodels`, perform a multivariable linear regression to predict the `happiness_score` based on `gdp_per_capita`, `healthy_life_expectancy`, `freedom_to_make_life_choices`, and `generosity`. Also, use the `add_constant()` method in `statsmodels` to ensure the model includes a constant term as well. Fit models to both the 2022 and 2023 data and display summaries of both results."
   ]
  },
  {
   "cell_type": "code",
   "execution_count": null,
   "metadata": {},
   "outputs": [],
   "source": [
    "# Put your code here"
   ]
  },
  {
   "cell_type": "markdown",
   "metadata": {},
   "source": [
    "&#9989;  **Question 4.2 (4 points)**: Answer the following questions: \n",
    "\n",
    "1. Compared to Question 3.1, are the fits better in Question 4.1? Answer based on e.g., R-squared and Adjusted R-squared values.\n",
    "\n",
    "2. For each of the features for the year 2023, specify if it is statistically significant or not. Use a p-value threshold of 0.05."
   ]
  },
  {
   "cell_type": "markdown",
   "metadata": {},
   "source": [
    "<font size=+3>&#9998;</font> Put your answers here:"
   ]
  },
  {
   "cell_type": "markdown",
   "metadata": {},
   "source": [
    "&#9989;  **Question 4.3 (2 points)**: Perform the multivariable linear regression for 2023, but this time with only the **most significant features** (p-values less than 0.05). Display the summary of these results."
   ]
  },
  {
   "cell_type": "code",
   "execution_count": null,
   "metadata": {},
   "outputs": [],
   "source": [
    "# Put your code here"
   ]
  },
  {
   "cell_type": "markdown",
   "metadata": {},
   "source": [
    "&#9989;  **Question 4.4 (2 points)**: How much better/worse is the reduced model compared to the original model? What are its advantages? Briefly discuss the answer."
   ]
  },
  {
   "cell_type": "markdown",
   "metadata": {},
   "source": [
    "<font size=+3>&#9998;</font> Put your answers here:"
   ]
  },
  {
   "cell_type": "markdown",
   "metadata": {},
   "source": [
    "&#9989;  **Question 4.5 (3 points)**: Create three `.graphics.plot_regress_exog` figures, one for each of the features (columns of original dataframe) in your reduced model. Pay attention to the top two plots: the fitted values figure and the residual plot. "
   ]
  },
  {
   "cell_type": "code",
   "execution_count": null,
   "metadata": {},
   "outputs": [],
   "source": [
    "# Put your code here."
   ]
  },
  {
   "cell_type": "markdown",
   "metadata": {},
   "source": [
    "---\n",
    "### &#128721; STOP\n",
    "**Pause to commit your changes to your Git repository!**\n",
    "\n",
    "Take a moment to save your notebook, commit the changes to your local `git` repository using the commit message \"Part 4 complete\", and push the changes to GitHub.\n",
    "\n",
    "---"
   ]
  },
  {
   "cell_type": "markdown",
   "metadata": {},
   "source": [
    "# Part 5: Logistic Regression (17 points)\n",
    "\n",
    "In this part, we'd like to use logistic regression to classify whether a person has diabetes or not. Logistic regression (as we've learned so far in class) does binary classification. \n",
    "\n"
   ]
  },
  {
   "cell_type": "markdown",
   "metadata": {},
   "source": [
    "&#9989;  **Question 5.1 (2 points)**: We will work with data that is available at https://www.kaggle.com/datasets/aemyjutt/diabetesdataanslysis?select=diabetes.csv. \n",
    "\n",
    "**You'll need to download the following file**:\n",
    "\n",
    "`https://raw.githubusercontent.com/ravisha3/CMSE202S24Homework3/main/diabetes.csv`\n",
    "\n",
    "**Do This**: In the cell below, type the code for downloading the data from inside your notebook and also code for loading the data into a pandas dataframe."
   ]
  },
  {
   "cell_type": "code",
   "execution_count": null,
   "metadata": {},
   "outputs": [],
   "source": [
    "# Put your code here\n"
   ]
  },
  {
   "cell_type": "markdown",
   "metadata": {},
   "source": [
    "&#9989;  **Question 5.2 (3 points)**:\n",
    "\n",
    "Create a `Pandas` `Series` called `labels` which has data from the `Outcome` column of the DataFrame. Also, create a `Pandas` `DataFrame` called `features` which consists of just the columns `Glucose`, `BloodPressure`, `BMI`, and `Age`. Display the labels and features to make sure you did this correctly."
   ]
  },
  {
   "cell_type": "code",
   "execution_count": null,
   "metadata": {},
   "outputs": [],
   "source": [
    "# Put your code here."
   ]
  },
  {
   "cell_type": "markdown",
   "metadata": {},
   "source": [
    "&#9989;  **Question 5.3 (4 points)**: Split your data into a training and testing set with a training set representing 80% of your data. For reproducibility, set the `random_state` argument to `0`. Print the shapes of the training features, the testing features, the training labels, and the testing labels to show you have the right number of entries in each of the four variables."
   ]
  },
  {
   "cell_type": "code",
   "execution_count": null,
   "metadata": {},
   "outputs": [],
   "source": [
    "# Put your code here"
   ]
  },
  {
   "cell_type": "markdown",
   "metadata": {},
   "source": [
    "&#9989;  **Question 5.4 (4 points)**: Now, train a logistic regression model using your training features and training labels. **Display the summary**."
   ]
  },
  {
   "cell_type": "code",
   "execution_count": null,
   "metadata": {},
   "outputs": [],
   "source": [
    "# Put your code here"
   ]
  },
  {
   "cell_type": "markdown",
   "metadata": {},
   "source": [
    "&#9989;  **Question 5.5 (4 points)**: Finally, test your logistic regression model using your testing features and testing labels. Display the fraction of testing data points that were correctly predicted. "
   ]
  },
  {
   "cell_type": "code",
   "execution_count": null,
   "metadata": {},
   "outputs": [],
   "source": [
    "# Put your code here"
   ]
  },
  {
   "cell_type": "markdown",
   "metadata": {},
   "source": [
    "---\n",
    "### &#128721; STOP\n",
    "**Pause to commit your changes to your Git repository!**\n",
    "\n",
    "Take a moment to save your notebook, commit the changes to your local `git` repository using the commit message \"Part 5 complete\", and push the changes to GitHub.\n",
    "\n",
    "---"
   ]
  },
  {
   "cell_type": "markdown",
   "metadata": {},
   "source": [
    "## Part 1. Continued\n",
    "\n",
    "Now that you've finished your new \"development\" on your 202 turn-in repo, you can merge your work back into your `main` branch.\n",
    "\n",
    "**&#9989; Do the following**:\n",
    "\n",
    "7. Switch back to your `main` branch. \n",
    "8. Merge your `hw03_branch` with your `main` branch. \n",
    "9. Finally, push the changes to GitHub."
   ]
  },
  {
   "cell_type": "markdown",
   "metadata": {},
   "source": [
    "---\n",
    "## Assignment wrap-up\n",
    "\n",
    "\n",
    "Please fill out the form that appears when you run the code below.  **You must completely fill this out in order to receive credit for the assignment!**"
   ]
  },
  {
   "cell_type": "code",
   "execution_count": null,
   "metadata": {},
   "outputs": [],
   "source": [
    "from IPython.display import HTML\n",
    "HTML(\n",
    "\"\"\"\n",
    "<iframe \n",
    "\tsrc=\"https://forms.office.com/r/Z8B1R2tasz\" \n",
    "\twidth=\"800px\" \n",
    "\theight=\"600px\" \n",
    "\tframeborder=\"0\" \n",
    "\tmarginheight=\"0\" \n",
    "\tmarginwidth=\"0\">\n",
    "\tLoading...\n",
    "</iframe>\n",
    "\"\"\"\n",
    ")"
   ]
  },
  {
   "cell_type": "markdown",
   "metadata": {},
   "source": [
    "## Congratulations, you're done!\n",
    "\n",
    "Submit this assignment by uploading it to the course D2L web page.  Go to the \"Homework Assignments\" folder, find the dropbox link for Homework 3, and upload it there."
   ]
  },
  {
   "cell_type": "markdown",
   "metadata": {},
   "source": [
    "&#169; Copyright 2023,  Department of Computational Mathematics, Science and Engineering at Michigan State University"
   ]
  }
 ],
 "metadata": {
  "kernelspec": {
   "display_name": "Python 3 (ipykernel)",
   "language": "python",
   "name": "python3"
  },
  "language_info": {
   "codemirror_mode": {
    "name": "ipython",
    "version": 3
   },
   "file_extension": ".py",
   "mimetype": "text/x-python",
   "name": "python",
   "nbconvert_exporter": "python",
   "pygments_lexer": "ipython3",
   "version": "3.11.4"
  },
  "toc": {
   "base_numbering": 1,
   "nav_menu": {},
   "number_sections": true,
   "sideBar": true,
   "skip_h1_title": false,
   "title_cell": "Table of Contents",
   "title_sidebar": "Contents",
   "toc_cell": false,
   "toc_position": {},
   "toc_section_display": true,
   "toc_window_display": false
  }
 },
 "nbformat": 4,
 "nbformat_minor": 4
}
